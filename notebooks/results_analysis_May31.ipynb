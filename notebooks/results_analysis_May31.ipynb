{
 "cells": [
  {
   "cell_type": "code",
   "execution_count": 131,
   "metadata": {},
   "outputs": [],
   "source": [
    "import pickle\n",
    "import pandas as pd\n",
    "from collections import Counter\n",
    "\n",
    "import numpy as np\n",
    "import seaborn as sns\n",
    "import matplotlib.pyplot as plt"
   ]
  },
  {
   "attachments": {},
   "cell_type": "markdown",
   "metadata": {},
   "source": [
    "note: I combined the first two runs with the other 10 runs"
   ]
  },
  {
   "attachments": {},
   "cell_type": "markdown",
   "metadata": {},
   "source": [
    "# Results "
   ]
  },
  {
   "cell_type": "code",
   "execution_count": 127,
   "metadata": {},
   "outputs": [],
   "source": [
    "from glob import glob\n",
    "from os.path import basename, normpath\n",
    "\n",
    "for folder in glob(\"../results/*/\"):  # get a list of all sub directories\n",
    "    with open(folder+'regulons.pkl', 'rb') as f:\n",
    "        regulon = pickle.load(f)\n",
    "    # run = basename(normpath(folder))\n",
    "    # print(run)\n",
    "        reg_df = pd.DataFrame({\n",
    "            'TF': [reg.transcription_factor for reg in regulon],\n",
    "            'genes': [list(reg.genes) for reg in regulon],\n",
    "            'score': [reg.score for reg in regulon]\n",
    "        })\n",
    "        reg_df['size'] = reg_df['genes'].apply(lambda x: len(x))\n",
    "        reg_df = reg_df.set_index('TF')\n",
    "        reg_df.to_csv(folder + 'regulons.csv')"
   ]
  },
  {
   "attachments": {},
   "cell_type": "markdown",
   "metadata": {},
   "source": [
    "First, make a list of all TFs and their frequency in the results"
   ]
  },
  {
   "cell_type": "code",
   "execution_count": 18,
   "metadata": {},
   "outputs": [
    {
     "name": "stdout",
     "output_type": "stream",
     "text": [
      "277\n"
     ]
    }
   ],
   "source": [
    "tfs_counter = Counter()\n",
    "for folder in glob('../results/*/'):\n",
    "    regulons_df = pd.read_csv(folder+'regulons.csv', index_col=0)\n",
    "    tfs_counter.update(regulons_df.index)\n",
    "    \n"
   ]
  },
  {
   "attachments": {},
   "cell_type": "markdown",
   "metadata": {},
   "source": [
    "### Counts per TF"
   ]
  },
  {
   "cell_type": "code",
   "execution_count": 117,
   "metadata": {},
   "outputs": [
    {
     "data": {
      "image/png": "[encoded data removed]",
      "text/plain": [
       "<Figure size 432x288 with 1 Axes>"
      ]
     },
     "metadata": {
      "needs_background": "light"
     },
     "output_type": "display_data"
    }
   ],
   "source": [
    "plt.bar(tfs_counter.keys(), tfs_counter.values())\n",
    "plt.show()\n"
   ]
  },
  {
   "attachments": {},
   "cell_type": "markdown",
   "metadata": {},
   "source": [
    "### Frequency of TFs counts"
   ]
  },
  {
   "cell_type": "code",
   "execution_count": 94,
   "metadata": {},
   "outputs": [
    {
     "data": {
      "image/png": "[encoded data removed]",
      "text/plain": [
       "<Figure size 432x288 with 1 Axes>"
      ]
     },
     "metadata": {
      "needs_background": "light"
     },
     "output_type": "display_data"
    }
   ],
   "source": [
    "tfs_freq = pd.Series(tfs_counter)\n",
    "tfs_freq = tfs_freq.sort_values(ascending=False)\n",
    "ax = tfs_freq.plot.hist(bins=12)\n"
   ]
  },
  {
   "cell_type": "code",
   "execution_count": 102,
   "metadata": {},
   "outputs": [
    {
     "name": "stderr",
     "output_type": "stream",
     "text": [
      "/Users/danabarilan/opt/miniconda3/envs/devo-grn/lib/python3.10/site-packages/seaborn/_decorators.py:36: FutureWarning: Pass the following variable as a keyword arg: x. From version 0.12, the only valid positional argument will be `data`, and passing other arguments without an explicit keyword will result in an error or misinterpretation.\n",
      "  warnings.warn(\n"
     ]
    },
    {
     "data": {
      "image/png": "[encoded data removed]",
      "text/plain": [
       "<Figure size 432x288 with 2 Axes>"
      ]
     },
     "metadata": {
      "needs_background": "light"
     },
     "output_type": "display_data"
    }
   ],
   "source": [
    "f, (ax_box, ax_hist) = plt.subplots(2, sharex=True, \n",
    "                                    gridspec_kw={\"height_ratios\": (.15, .85)})\n",
    "\n",
    "sns.boxplot(tfs_freq, ax=ax_box)\n",
    "sns.histplot(tfs_freq, ax=ax_hist, bins=12)\n",
    "sns.despine(ax=ax_box, left=True)"
   ]
  },
  {
   "attachments": {},
   "cell_type": "markdown",
   "metadata": {},
   "source": [
    "Produce list of TFs that appear in >80% of the runs"
   ]
  },
  {
   "cell_type": "code",
   "execution_count": 116,
   "metadata": {},
   "outputs": [
    {
     "data": {
      "text/plain": [
       "25.992779783393498"
      ]
     },
     "execution_count": 116,
     "metadata": {},
     "output_type": "execute_result"
    }
   ],
   "source": [
    "tfs_80 = tfs_freq[tfs_freq > 9]\n",
    "len(tfs_80) # 72  \n",
    "len(tfs_freq)  # 277   \n",
    "# ~ 26% of regulons\n"
   ]
  },
  {
   "attachments": {},
   "cell_type": "markdown",
   "metadata": {},
   "source": [
    "## Question to Address: How do genes differ between runs in the same TF regulon? Which genes to choose?"
   ]
  },
  {
   "attachments": {},
   "cell_type": "markdown",
   "metadata": {},
   "source": [
    "save for each run a regulon sub-matrix with only the 72 TFs that appear in more than 80% of the runs (>9 times).\n",
    "\n",
    "Note: can do the same for the regulons.pkl, to later use the Regulon methods (i.e intersection..)"
   ]
  },
  {
   "cell_type": "code",
   "execution_count": 129,
   "metadata": {},
   "outputs": [],
   "source": [
    "\n",
    "for folder in glob('../results/*/'):\n",
    "    regulons_df = pd.read_csv(folder+'regulons.csv', index_col=0)\n",
    "    regulons_top_freq = regulons_df.loc[[tf for tf in regulons_df.index if tf in tfs_80.index]]\n",
    "    regulons_top_freq.to_csv(folder + 'regulons_top80.csv')"
   ]
  },
  {
   "attachments": {},
   "cell_type": "markdown",
   "metadata": {},
   "source": [
    "Count genes frequencies, for the same TF"
   ]
  },
  {
   "cell_type": "code",
   "execution_count": 162,
   "metadata": {},
   "outputs": [
    {
     "name": "stdout",
     "output_type": "stream",
     "text": [
      "../results/run_08/\n",
      "TF\n",
      "CG17829     9\n",
      "CG5245      5\n",
      "CG5846     25\n",
      "Cf2        22\n",
      "Dp          4\n",
      "           ..\n",
      "tsu        10\n",
      "twi        31\n",
      "usp         4\n",
      "wor        86\n",
      "zld        92\n",
      "Name: genes, Length: 69, dtype: int64\n"
     ]
    }
   ],
   "source": [
    "from ast import literal_eval\n",
    "genes_count = {}\n",
    "\n",
    "for folder in glob('../results/*/'):\n",
    "    print(folder)\n",
    "    compact = pd.read_csv(folder+'regulons_top80.csv', index_col=0)\n",
    "    compact.genes = compact.genes.apply(literal_eval)\n",
    "    top_freq_df = compact.genes.explode()\n",
    "    # Here add counter\n",
    "    break"
   ]
  },
  {
   "attachments": {},
   "cell_type": "markdown",
   "metadata": {},
   "source": [
    "### Is there a correlation between regulon size and it's score?"
   ]
  },
  {
   "attachments": {},
   "cell_type": "markdown",
   "metadata": {},
   "source": [
    "We'll look at one run as an example"
   ]
  },
  {
   "cell_type": "code",
   "execution_count": 118,
   "metadata": {},
   "outputs": [
    {
     "data": {
      "text/html": [
       "<div>\n",
       "<style scoped>\n",
       "    .dataframe tbody tr th:only-of-type {\n",
       "        vertical-align: middle;\n",
       "    }\n",
       "\n",
       "    .dataframe tbody tr th {\n",
       "        vertical-align: top;\n",
       "    }\n",
       "\n",
       "    .dataframe thead th {\n",
       "        text-align: right;\n",
       "    }\n",
       "</style>\n",
       "<table border=\"1\" class=\"dataframe\">\n",
       "  <thead>\n",
       "    <tr style=\"text-align: right;\">\n",
       "      <th></th>\n",
       "      <th>genes</th>\n",
       "      <th>score</th>\n",
       "      <th>size</th>\n",
       "    </tr>\n",
       "    <tr>\n",
       "      <th>TF</th>\n",
       "      <th></th>\n",
       "      <th></th>\n",
       "      <th></th>\n",
       "    </tr>\n",
       "  </thead>\n",
       "  <tbody>\n",
       "    <tr>\n",
       "      <th>B-H2</th>\n",
       "      <td>['capu', 'CG7724', 'CG18507', 'B-H2', 'CG9628'...</td>\n",
       "      <td>3.835759</td>\n",
       "      <td>10</td>\n",
       "    </tr>\n",
       "    <tr>\n",
       "      <th>BtbVII</th>\n",
       "      <td>['Usp2', 'wech']</td>\n",
       "      <td>3.612887</td>\n",
       "      <td>2</td>\n",
       "    </tr>\n",
       "    <tr>\n",
       "      <th>CG11586</th>\n",
       "      <td>['Ppt1', 'thoc6']</td>\n",
       "      <td>2.820949</td>\n",
       "      <td>2</td>\n",
       "    </tr>\n",
       "    <tr>\n",
       "      <th>CG17440</th>\n",
       "      <td>['CG1324', 'Obp56h', 'CG32982', 'CG34170', 'Cd...</td>\n",
       "      <td>0.983616</td>\n",
       "      <td>5</td>\n",
       "    </tr>\n",
       "    <tr>\n",
       "      <th>CG17829</th>\n",
       "      <td>['Orc4', 'lig', 'tam', 'Fit1', 'MED8', 'Spec2'...</td>\n",
       "      <td>1.424293</td>\n",
       "      <td>17</td>\n",
       "    </tr>\n",
       "    <tr>\n",
       "      <th>...</th>\n",
       "      <td>...</td>\n",
       "      <td>...</td>\n",
       "      <td>...</td>\n",
       "    </tr>\n",
       "    <tr>\n",
       "      <th>twi</th>\n",
       "      <td>['retn', 'stumps', 'BobA', 'tin', 'Tom', 'pico...</td>\n",
       "      <td>4.319942</td>\n",
       "      <td>22</td>\n",
       "    </tr>\n",
       "    <tr>\n",
       "      <th>unc-4</th>\n",
       "      <td>['Atf3', 'Lim1', 'Hr4', 'unc-4', 'fne', 'hig',...</td>\n",
       "      <td>0.238009</td>\n",
       "      <td>7</td>\n",
       "    </tr>\n",
       "    <tr>\n",
       "      <th>usp</th>\n",
       "      <td>['CG8078', 'CG3909', 'CG10139', 'Vps13', 'usp'...</td>\n",
       "      <td>1.749538</td>\n",
       "      <td>25</td>\n",
       "    </tr>\n",
       "    <tr>\n",
       "      <th>wor</th>\n",
       "      <td>['sna', 'spdo', 'Diap1', 'sca', 'Traf4', 'scrt...</td>\n",
       "      <td>0.922127</td>\n",
       "      <td>76</td>\n",
       "    </tr>\n",
       "    <tr>\n",
       "      <th>zld</th>\n",
       "      <td>['Tollo', 'RhoGAP71E', 'msi', 'HipHop', 'haf',...</td>\n",
       "      <td>5.501028</td>\n",
       "      <td>92</td>\n",
       "    </tr>\n",
       "  </tbody>\n",
       "</table>\n",
       "<p>131 rows × 3 columns</p>\n",
       "</div>"
      ],
      "text/plain": [
       "                                                     genes     score  size\n",
       "TF                                                                        \n",
       "B-H2     ['capu', 'CG7724', 'CG18507', 'B-H2', 'CG9628'...  3.835759    10\n",
       "BtbVII                                    ['Usp2', 'wech']  3.612887     2\n",
       "CG11586                                  ['Ppt1', 'thoc6']  2.820949     2\n",
       "CG17440  ['CG1324', 'Obp56h', 'CG32982', 'CG34170', 'Cd...  0.983616     5\n",
       "CG17829  ['Orc4', 'lig', 'tam', 'Fit1', 'MED8', 'Spec2'...  1.424293    17\n",
       "...                                                    ...       ...   ...\n",
       "twi      ['retn', 'stumps', 'BobA', 'tin', 'Tom', 'pico...  4.319942    22\n",
       "unc-4    ['Atf3', 'Lim1', 'Hr4', 'unc-4', 'fne', 'hig',...  0.238009     7\n",
       "usp      ['CG8078', 'CG3909', 'CG10139', 'Vps13', 'usp'...  1.749538    25\n",
       "wor      ['sna', 'spdo', 'Diap1', 'sca', 'Traf4', 'scrt...  0.922127    76\n",
       "zld      ['Tollo', 'RhoGAP71E', 'msi', 'HipHop', 'haf',...  5.501028    92\n",
       "\n",
       "[131 rows x 3 columns]"
      ]
     },
     "execution_count": 118,
     "metadata": {},
     "output_type": "execute_result"
    }
   ],
   "source": [
    "run1_regulons = pd.read_csv('../results/run_01/regulons.csv', index_col=0)"
   ]
  },
  {
   "cell_type": "code",
   "execution_count": 121,
   "metadata": {},
   "outputs": [
    {
     "data": {
      "image/png": "[encoded data removed]",
      "text/plain": [
       "<Figure size 432x288 with 1 Axes>"
      ]
     },
     "metadata": {
      "needs_background": "light"
     },
     "output_type": "display_data"
    }
   ],
   "source": [
    "sizes = run1_regulons['size']\n",
    "scores = run1_regulons['score']\n",
    "ind = np.argsort(sizes)\n",
    "plt.clf()\n",
    "plt.scatter(sizes[ind], scores[ind])\n",
    "plt.show()"
   ]
  },
  {
   "cell_type": "code",
   "execution_count": 130,
   "metadata": {},
   "outputs": [
    {
     "data": {
      "image/png": "[encoded data removed]",
      "text/plain": [
       "<Figure size 432x288 with 1 Axes>"
      ]
     },
     "metadata": {
      "needs_background": "light"
     },
     "output_type": "display_data"
    }
   ],
   "source": [
    "run2_regulons_80 = pd.read_csv('../results/run_02/regulons_top80.csv', index_col=0)\n",
    "sizes = run2_regulons_80['size']\n",
    "scores = run2_regulons_80['score']\n",
    "ind = np.argsort(sizes)\n",
    "plt.clf()\n",
    "plt.scatter(sizes[ind], scores[ind])\n",
    "plt.show()"
   ]
  }
 ],
 "metadata": {
  "kernelspec": {
   "display_name": "devo-grn",
   "language": "python",
   "name": "python3"
  },
  "language_info": {
   "codemirror_mode": {
    "name": "ipython",
    "version": 3
   },
   "file_extension": ".py",
   "mimetype": "text/x-python",
   "name": "python",
   "nbconvert_exporter": "python",
   "pygments_lexer": "ipython3",
   "version": "3.10.9"
  },
  "orig_nbformat": 4
 },
 "nbformat": 4,
 "nbformat_minor": 2
}
