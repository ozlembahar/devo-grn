{
 "cells": [
  {
   "cell_type": "code",
   "execution_count": 2,
   "metadata": {},
   "outputs": [],
   "source": [
    "import pandas as pd\n",
    "import seaborn as sns\n",
    "import matplotlib.pyplot as plt"
   ]
  },
  {
   "attachments": {},
   "cell_type": "markdown",
   "metadata": {},
   "source": [
    "Get count matrix "
   ]
  },
  {
   "cell_type": "code",
   "execution_count": 3,
   "metadata": {},
   "outputs": [
    {
     "data": {
      "text/plain": [
       "(3855, 9751)"
      ]
     },
     "execution_count": 3,
     "metadata": {},
     "output_type": "execute_result"
    }
   ],
   "source": [
    "ex_matrix = pd.read_csv(\"../data/expression_mat.csv\", index_col=0)  # load count matrix \n",
    "ex_matrix.shape"
   ]
  },
  {
   "cell_type": "code",
   "execution_count": 4,
   "metadata": {},
   "outputs": [
    {
     "data": {
      "text/html": [
       "<div>\n",
       "<style scoped>\n",
       "    .dataframe tbody tr th:only-of-type {\n",
       "        vertical-align: middle;\n",
       "    }\n",
       "\n",
       "    .dataframe tbody tr th {\n",
       "        vertical-align: top;\n",
       "    }\n",
       "\n",
       "    .dataframe thead th {\n",
       "        text-align: right;\n",
       "    }\n",
       "</style>\n",
       "<table border=\"1\" class=\"dataframe\">\n",
       "  <thead>\n",
       "    <tr style=\"text-align: right;\">\n",
       "      <th></th>\n",
       "      <th>a</th>\n",
       "      <th>abd-A</th>\n",
       "      <th>Abd-B</th>\n",
       "      <th>Abl</th>\n",
       "      <th>abo</th>\n",
       "      <th>ac</th>\n",
       "      <th>acj6</th>\n",
       "      <th>Acph-1</th>\n",
       "      <th>Act5C</th>\n",
       "      <th>Act42A</th>\n",
       "      <th>...</th>\n",
       "      <th>lncRNA:CR43716</th>\n",
       "      <th>lncRNA:CR44997</th>\n",
       "      <th>asRNA:CR45151</th>\n",
       "      <th>lncRNA:CR45310</th>\n",
       "      <th>lncRNA:CR45425</th>\n",
       "      <th>asRNA:CR45822</th>\n",
       "      <th>asRNA:CR45891</th>\n",
       "      <th>lncRNA:CR45961</th>\n",
       "      <th>lncRNA:CR46032</th>\n",
       "      <th>lncRNA:CR46119</th>\n",
       "    </tr>\n",
       "  </thead>\n",
       "  <tbody>\n",
       "    <tr>\n",
       "      <th>TP1_AACTCAGGTAAATACG</th>\n",
       "      <td>0.0</td>\n",
       "      <td>0.000000</td>\n",
       "      <td>0.0</td>\n",
       "      <td>0.0</td>\n",
       "      <td>0.466624</td>\n",
       "      <td>0.000000</td>\n",
       "      <td>0.0</td>\n",
       "      <td>0.0</td>\n",
       "      <td>2.764117</td>\n",
       "      <td>1.750383</td>\n",
       "      <td>...</td>\n",
       "      <td>0</td>\n",
       "      <td>0</td>\n",
       "      <td>0.0</td>\n",
       "      <td>0</td>\n",
       "      <td>0.0</td>\n",
       "      <td>0.0</td>\n",
       "      <td>0.0</td>\n",
       "      <td>0.0</td>\n",
       "      <td>0</td>\n",
       "      <td>0.0</td>\n",
       "    </tr>\n",
       "    <tr>\n",
       "      <th>TP1_TCACGAATCTATCGCC</th>\n",
       "      <td>0.0</td>\n",
       "      <td>1.053208</td>\n",
       "      <td>0.0</td>\n",
       "      <td>0.0</td>\n",
       "      <td>0.000000</td>\n",
       "      <td>0.483831</td>\n",
       "      <td>0.0</td>\n",
       "      <td>0.0</td>\n",
       "      <td>2.879282</td>\n",
       "      <td>1.053208</td>\n",
       "      <td>...</td>\n",
       "      <td>0</td>\n",
       "      <td>0</td>\n",
       "      <td>0.0</td>\n",
       "      <td>0</td>\n",
       "      <td>0.0</td>\n",
       "      <td>0.0</td>\n",
       "      <td>0.0</td>\n",
       "      <td>0.0</td>\n",
       "      <td>0</td>\n",
       "      <td>0.0</td>\n",
       "    </tr>\n",
       "    <tr>\n",
       "      <th>TP1_TACGGTACAATAGAGT</th>\n",
       "      <td>0.0</td>\n",
       "      <td>0.813928</td>\n",
       "      <td>0.0</td>\n",
       "      <td>0.0</td>\n",
       "      <td>0.000000</td>\n",
       "      <td>0.000000</td>\n",
       "      <td>0.0</td>\n",
       "      <td>0.0</td>\n",
       "      <td>2.458085</td>\n",
       "      <td>1.059571</td>\n",
       "      <td>...</td>\n",
       "      <td>0</td>\n",
       "      <td>0</td>\n",
       "      <td>0.0</td>\n",
       "      <td>0</td>\n",
       "      <td>0.0</td>\n",
       "      <td>0.0</td>\n",
       "      <td>0.0</td>\n",
       "      <td>0.0</td>\n",
       "      <td>0</td>\n",
       "      <td>0.0</td>\n",
       "    </tr>\n",
       "    <tr>\n",
       "      <th>TP1_CAACTAGAGAGACGAA</th>\n",
       "      <td>0.0</td>\n",
       "      <td>0.000000</td>\n",
       "      <td>0.0</td>\n",
       "      <td>0.0</td>\n",
       "      <td>0.000000</td>\n",
       "      <td>0.888313</td>\n",
       "      <td>0.0</td>\n",
       "      <td>0.0</td>\n",
       "      <td>2.728522</td>\n",
       "      <td>2.006819</td>\n",
       "      <td>...</td>\n",
       "      <td>0</td>\n",
       "      <td>0</td>\n",
       "      <td>0.0</td>\n",
       "      <td>0</td>\n",
       "      <td>0.0</td>\n",
       "      <td>0.0</td>\n",
       "      <td>0.0</td>\n",
       "      <td>0.0</td>\n",
       "      <td>0</td>\n",
       "      <td>0.0</td>\n",
       "    </tr>\n",
       "    <tr>\n",
       "      <th>TP1_GCGCCAAAGTCGATAA</th>\n",
       "      <td>0.0</td>\n",
       "      <td>0.000000</td>\n",
       "      <td>0.0</td>\n",
       "      <td>0.0</td>\n",
       "      <td>0.000000</td>\n",
       "      <td>0.000000</td>\n",
       "      <td>0.0</td>\n",
       "      <td>0.0</td>\n",
       "      <td>3.294131</td>\n",
       "      <td>1.989672</td>\n",
       "      <td>...</td>\n",
       "      <td>0</td>\n",
       "      <td>0</td>\n",
       "      <td>0.0</td>\n",
       "      <td>0</td>\n",
       "      <td>0.0</td>\n",
       "      <td>0.0</td>\n",
       "      <td>0.0</td>\n",
       "      <td>0.0</td>\n",
       "      <td>0</td>\n",
       "      <td>0.0</td>\n",
       "    </tr>\n",
       "    <tr>\n",
       "      <th>...</th>\n",
       "      <td>...</td>\n",
       "      <td>...</td>\n",
       "      <td>...</td>\n",
       "      <td>...</td>\n",
       "      <td>...</td>\n",
       "      <td>...</td>\n",
       "      <td>...</td>\n",
       "      <td>...</td>\n",
       "      <td>...</td>\n",
       "      <td>...</td>\n",
       "      <td>...</td>\n",
       "      <td>...</td>\n",
       "      <td>...</td>\n",
       "      <td>...</td>\n",
       "      <td>...</td>\n",
       "      <td>...</td>\n",
       "      <td>...</td>\n",
       "      <td>...</td>\n",
       "      <td>...</td>\n",
       "      <td>...</td>\n",
       "      <td>...</td>\n",
       "    </tr>\n",
       "    <tr>\n",
       "      <th>TP2.2_AACACGTCATTCACTT</th>\n",
       "      <td>0.0</td>\n",
       "      <td>0.000000</td>\n",
       "      <td>0.0</td>\n",
       "      <td>0.0</td>\n",
       "      <td>0.000000</td>\n",
       "      <td>0.000000</td>\n",
       "      <td>0.0</td>\n",
       "      <td>0.0</td>\n",
       "      <td>0.000000</td>\n",
       "      <td>2.463590</td>\n",
       "      <td>...</td>\n",
       "      <td>0</td>\n",
       "      <td>0</td>\n",
       "      <td>0.0</td>\n",
       "      <td>0</td>\n",
       "      <td>0.0</td>\n",
       "      <td>0.0</td>\n",
       "      <td>0.0</td>\n",
       "      <td>0.0</td>\n",
       "      <td>0</td>\n",
       "      <td>0.0</td>\n",
       "    </tr>\n",
       "    <tr>\n",
       "      <th>TP2.2_TCTTTCCGTACCGTTA</th>\n",
       "      <td>0.0</td>\n",
       "      <td>0.000000</td>\n",
       "      <td>0.0</td>\n",
       "      <td>0.0</td>\n",
       "      <td>0.000000</td>\n",
       "      <td>0.000000</td>\n",
       "      <td>0.0</td>\n",
       "      <td>0.0</td>\n",
       "      <td>3.506908</td>\n",
       "      <td>2.466545</td>\n",
       "      <td>...</td>\n",
       "      <td>0</td>\n",
       "      <td>0</td>\n",
       "      <td>0.0</td>\n",
       "      <td>0</td>\n",
       "      <td>0.0</td>\n",
       "      <td>0.0</td>\n",
       "      <td>0.0</td>\n",
       "      <td>0.0</td>\n",
       "      <td>0</td>\n",
       "      <td>0.0</td>\n",
       "    </tr>\n",
       "    <tr>\n",
       "      <th>TP2.2_GATTCAGCACACGCTG</th>\n",
       "      <td>0.0</td>\n",
       "      <td>2.470005</td>\n",
       "      <td>0.0</td>\n",
       "      <td>0.0</td>\n",
       "      <td>0.000000</td>\n",
       "      <td>1.858055</td>\n",
       "      <td>0.0</td>\n",
       "      <td>0.0</td>\n",
       "      <td>3.119940</td>\n",
       "      <td>1.858055</td>\n",
       "      <td>...</td>\n",
       "      <td>0</td>\n",
       "      <td>0</td>\n",
       "      <td>0.0</td>\n",
       "      <td>0</td>\n",
       "      <td>0.0</td>\n",
       "      <td>0.0</td>\n",
       "      <td>0.0</td>\n",
       "      <td>0.0</td>\n",
       "      <td>0</td>\n",
       "      <td>0.0</td>\n",
       "    </tr>\n",
       "    <tr>\n",
       "      <th>TP2.2_TGAGCATGTGATGTCT</th>\n",
       "      <td>0.0</td>\n",
       "      <td>0.000000</td>\n",
       "      <td>0.0</td>\n",
       "      <td>0.0</td>\n",
       "      <td>0.000000</td>\n",
       "      <td>0.000000</td>\n",
       "      <td>0.0</td>\n",
       "      <td>0.0</td>\n",
       "      <td>1.854410</td>\n",
       "      <td>2.466052</td>\n",
       "      <td>...</td>\n",
       "      <td>0</td>\n",
       "      <td>0</td>\n",
       "      <td>0.0</td>\n",
       "      <td>0</td>\n",
       "      <td>0.0</td>\n",
       "      <td>0.0</td>\n",
       "      <td>0.0</td>\n",
       "      <td>0.0</td>\n",
       "      <td>0</td>\n",
       "      <td>0.0</td>\n",
       "    </tr>\n",
       "    <tr>\n",
       "      <th>TP2.2_GACGGCTCAAAGGTGC</th>\n",
       "      <td>0.0</td>\n",
       "      <td>0.000000</td>\n",
       "      <td>0.0</td>\n",
       "      <td>0.0</td>\n",
       "      <td>0.000000</td>\n",
       "      <td>0.000000</td>\n",
       "      <td>0.0</td>\n",
       "      <td>0.0</td>\n",
       "      <td>3.107610</td>\n",
       "      <td>1.847175</td>\n",
       "      <td>...</td>\n",
       "      <td>0</td>\n",
       "      <td>0</td>\n",
       "      <td>0.0</td>\n",
       "      <td>0</td>\n",
       "      <td>0.0</td>\n",
       "      <td>0.0</td>\n",
       "      <td>0.0</td>\n",
       "      <td>0.0</td>\n",
       "      <td>0</td>\n",
       "      <td>0.0</td>\n",
       "    </tr>\n",
       "  </tbody>\n",
       "</table>\n",
       "<p>3855 rows × 9751 columns</p>\n",
       "</div>"
      ],
      "text/plain": [
       "                          a     abd-A  Abd-B  Abl       abo        ac  acj6  \\\n",
       "TP1_AACTCAGGTAAATACG    0.0  0.000000    0.0  0.0  0.466624  0.000000   0.0   \n",
       "TP1_TCACGAATCTATCGCC    0.0  1.053208    0.0  0.0  0.000000  0.483831   0.0   \n",
       "TP1_TACGGTACAATAGAGT    0.0  0.813928    0.0  0.0  0.000000  0.000000   0.0   \n",
       "TP1_CAACTAGAGAGACGAA    0.0  0.000000    0.0  0.0  0.000000  0.888313   0.0   \n",
       "TP1_GCGCCAAAGTCGATAA    0.0  0.000000    0.0  0.0  0.000000  0.000000   0.0   \n",
       "...                     ...       ...    ...  ...       ...       ...   ...   \n",
       "TP2.2_AACACGTCATTCACTT  0.0  0.000000    0.0  0.0  0.000000  0.000000   0.0   \n",
       "TP2.2_TCTTTCCGTACCGTTA  0.0  0.000000    0.0  0.0  0.000000  0.000000   0.0   \n",
       "TP2.2_GATTCAGCACACGCTG  0.0  2.470005    0.0  0.0  0.000000  1.858055   0.0   \n",
       "TP2.2_TGAGCATGTGATGTCT  0.0  0.000000    0.0  0.0  0.000000  0.000000   0.0   \n",
       "TP2.2_GACGGCTCAAAGGTGC  0.0  0.000000    0.0  0.0  0.000000  0.000000   0.0   \n",
       "\n",
       "                        Acph-1     Act5C    Act42A  ...  lncRNA:CR43716  \\\n",
       "TP1_AACTCAGGTAAATACG       0.0  2.764117  1.750383  ...               0   \n",
       "TP1_TCACGAATCTATCGCC       0.0  2.879282  1.053208  ...               0   \n",
       "TP1_TACGGTACAATAGAGT       0.0  2.458085  1.059571  ...               0   \n",
       "TP1_CAACTAGAGAGACGAA       0.0  2.728522  2.006819  ...               0   \n",
       "TP1_GCGCCAAAGTCGATAA       0.0  3.294131  1.989672  ...               0   \n",
       "...                        ...       ...       ...  ...             ...   \n",
       "TP2.2_AACACGTCATTCACTT     0.0  0.000000  2.463590  ...               0   \n",
       "TP2.2_TCTTTCCGTACCGTTA     0.0  3.506908  2.466545  ...               0   \n",
       "TP2.2_GATTCAGCACACGCTG     0.0  3.119940  1.858055  ...               0   \n",
       "TP2.2_TGAGCATGTGATGTCT     0.0  1.854410  2.466052  ...               0   \n",
       "TP2.2_GACGGCTCAAAGGTGC     0.0  3.107610  1.847175  ...               0   \n",
       "\n",
       "                        lncRNA:CR44997  asRNA:CR45151  lncRNA:CR45310  \\\n",
       "TP1_AACTCAGGTAAATACG                 0            0.0               0   \n",
       "TP1_TCACGAATCTATCGCC                 0            0.0               0   \n",
       "TP1_TACGGTACAATAGAGT                 0            0.0               0   \n",
       "TP1_CAACTAGAGAGACGAA                 0            0.0               0   \n",
       "TP1_GCGCCAAAGTCGATAA                 0            0.0               0   \n",
       "...                                ...            ...             ...   \n",
       "TP2.2_AACACGTCATTCACTT               0            0.0               0   \n",
       "TP2.2_TCTTTCCGTACCGTTA               0            0.0               0   \n",
       "TP2.2_GATTCAGCACACGCTG               0            0.0               0   \n",
       "TP2.2_TGAGCATGTGATGTCT               0            0.0               0   \n",
       "TP2.2_GACGGCTCAAAGGTGC               0            0.0               0   \n",
       "\n",
       "                        lncRNA:CR45425  asRNA:CR45822  asRNA:CR45891  \\\n",
       "TP1_AACTCAGGTAAATACG               0.0            0.0            0.0   \n",
       "TP1_TCACGAATCTATCGCC               0.0            0.0            0.0   \n",
       "TP1_TACGGTACAATAGAGT               0.0            0.0            0.0   \n",
       "TP1_CAACTAGAGAGACGAA               0.0            0.0            0.0   \n",
       "TP1_GCGCCAAAGTCGATAA               0.0            0.0            0.0   \n",
       "...                                ...            ...            ...   \n",
       "TP2.2_AACACGTCATTCACTT             0.0            0.0            0.0   \n",
       "TP2.2_TCTTTCCGTACCGTTA             0.0            0.0            0.0   \n",
       "TP2.2_GATTCAGCACACGCTG             0.0            0.0            0.0   \n",
       "TP2.2_TGAGCATGTGATGTCT             0.0            0.0            0.0   \n",
       "TP2.2_GACGGCTCAAAGGTGC             0.0            0.0            0.0   \n",
       "\n",
       "                        lncRNA:CR45961  lncRNA:CR46032  lncRNA:CR46119  \n",
       "TP1_AACTCAGGTAAATACG               0.0               0             0.0  \n",
       "TP1_TCACGAATCTATCGCC               0.0               0             0.0  \n",
       "TP1_TACGGTACAATAGAGT               0.0               0             0.0  \n",
       "TP1_CAACTAGAGAGACGAA               0.0               0             0.0  \n",
       "TP1_GCGCCAAAGTCGATAA               0.0               0             0.0  \n",
       "...                                ...             ...             ...  \n",
       "TP2.2_AACACGTCATTCACTT             0.0               0             0.0  \n",
       "TP2.2_TCTTTCCGTACCGTTA             0.0               0             0.0  \n",
       "TP2.2_GATTCAGCACACGCTG             0.0               0             0.0  \n",
       "TP2.2_TGAGCATGTGATGTCT             0.0               0             0.0  \n",
       "TP2.2_GACGGCTCAAAGGTGC             0.0               0             0.0  \n",
       "\n",
       "[3855 rows x 9751 columns]"
      ]
     },
     "execution_count": 4,
     "metadata": {},
     "output_type": "execute_result"
    }
   ],
   "source": [
    "ex_matrix"
   ]
  },
  {
   "attachments": {},
   "cell_type": "markdown",
   "metadata": {},
   "source": [
    "### Plot number of genes detected vs. number of cells "
   ]
  },
  {
   "cell_type": "code",
   "execution_count": 19,
   "metadata": {},
   "outputs": [
    {
     "data": {
      "image/png": "[encoded data removed]",
      "text/plain": [
       "<Figure size 432x288 with 2 Axes>"
      ]
     },
     "metadata": {
      "needs_background": "light"
     },
     "output_type": "display_data"
    }
   ],
   "source": [
    "df = ex_matrix.gt(0).sum(axis=1)  # for each cell(line) sum non zero (= expressed) genes \n",
    "f, (ax_box, ax_hist) = plt.subplots(2, sharex=True, gridspec_kw={\"height_ratios\": (.15, .85)})\n",
    "\n",
    "sns.boxplot(x=df, ax=ax_box)\n",
    "sns.histplot(data=df, ax=ax_hist)\n",
    "\n",
    "ax_hist.set(xlabel='# of genes', ylabel='# of cells')\n",
    "\n",
    "plt.show()\n"
   ]
  },
  {
   "attachments": {},
   "cell_type": "markdown",
   "metadata": {},
   "source": [
    "Might be interesting to check for expression by different groups? (i.e. TP)"
   ]
  },
  {
   "cell_type": "code",
   "execution_count": 28,
   "metadata": {},
   "outputs": [],
   "source": [
    "# df_tp1 = ex_matrix[ex_matrix.loc[ex]]\n",
    "tp1_idx = [x for x in ex_matrix.index if x.startswith('TP1')]\n",
    "tp2_idx = [x for x in ex_matrix.index if x.startswith('TP2')]\n",
    "\n",
    "ex_tp1 = ex_matrix.loc[tp1_idx]\n",
    "ex_tp2 = ex_matrix.loc[tp2_idx]\n",
    "# 1788 + 2067 = 3855\n"
   ]
  },
  {
   "attachments": {},
   "cell_type": "markdown",
   "metadata": {},
   "source": [
    "#### Cells vs. Genes - TP1"
   ]
  },
  {
   "cell_type": "code",
   "execution_count": 21,
   "metadata": {},
   "outputs": [
    {
     "data": {
      "image/png": "[encoded data removed]",
      "text/plain": [
       "<Figure size 432x288 with 2 Axes>"
      ]
     },
     "metadata": {
      "needs_background": "light"
     },
     "output_type": "display_data"
    }
   ],
   "source": [
    "df = ex_tp1.gt(0).sum(axis=1)  # for each cell(line) sum non zero (= expressed) genes \n",
    "f, (ax_box, ax_hist) = plt.subplots(2, sharex=True, gridspec_kw={\"height_ratios\": (.15, .85)})\n",
    "\n",
    "sns.boxplot(x=df, ax=ax_box)\n",
    "sns.histplot(data=df, ax=ax_hist)\n",
    "\n",
    "ax_hist.set(xlabel='# of genes', ylabel='# of cells')\n",
    "\n",
    "plt.show()"
   ]
  },
  {
   "attachments": {},
   "cell_type": "markdown",
   "metadata": {},
   "source": [
    "#### Cells vs. Genes - TP2"
   ]
  },
  {
   "cell_type": "code",
   "execution_count": 22,
   "metadata": {},
   "outputs": [
    {
     "data": {
      "image/png": "[encoded data removed]",
      "text/plain": [
       "<Figure size 432x288 with 2 Axes>"
      ]
     },
     "metadata": {
      "needs_background": "light"
     },
     "output_type": "display_data"
    }
   ],
   "source": [
    "df = ex_tp2.gt(0).sum(axis=1)  # for each cell(line) sum non zero (= expressed) genes \n",
    "f, (ax_box, ax_hist) = plt.subplots(2, sharex=True, gridspec_kw={\"height_ratios\": (.15, .85)})\n",
    "\n",
    "sns.boxplot(x=df, ax=ax_box)\n",
    "sns.histplot(data=df, ax=ax_hist)\n",
    "\n",
    "ax_hist.set(xlabel='# of genes', ylabel='# of cells')\n",
    "\n",
    "plt.show()"
   ]
  },
  {
   "cell_type": "markdown",
   "metadata": {},
   "source": [
    "sizes etc"
   ]
  },
  {
   "cell_type": "code",
   "execution_count": 3,
   "metadata": {},
   "outputs": [],
   "source": [
    "gene_counts_df = pd.read_csv(\"../results/gene_counts.csv\")"
   ]
  },
  {
   "cell_type": "code",
   "execution_count": 16,
   "metadata": {},
   "outputs": [
    {
     "data": {
      "text/html": [
       "<div>\n",
       "<style scoped>\n",
       "    .dataframe tbody tr th:only-of-type {\n",
       "        vertical-align: middle;\n",
       "    }\n",
       "\n",
       "    .dataframe tbody tr th {\n",
       "        vertical-align: top;\n",
       "    }\n",
       "\n",
       "    .dataframe thead th {\n",
       "        text-align: right;\n",
       "    }\n",
       "</style>\n",
       "<table border=\"1\" class=\"dataframe\">\n",
       "  <thead>\n",
       "    <tr style=\"text-align: right;\">\n",
       "      <th></th>\n",
       "      <th>gene</th>\n",
       "      <th>count</th>\n",
       "    </tr>\n",
       "    <tr>\n",
       "      <th>TF</th>\n",
       "      <th></th>\n",
       "      <th></th>\n",
       "    </tr>\n",
       "  </thead>\n",
       "  <tbody>\n",
       "    <tr>\n",
       "      <th>CG5245</th>\n",
       "      <td>42</td>\n",
       "      <td>42</td>\n",
       "    </tr>\n",
       "    <tr>\n",
       "      <th>CG5846</th>\n",
       "      <td>80</td>\n",
       "      <td>80</td>\n",
       "    </tr>\n",
       "    <tr>\n",
       "      <th>Dp</th>\n",
       "      <td>40</td>\n",
       "      <td>40</td>\n",
       "    </tr>\n",
       "    <tr>\n",
       "      <th>E(spl)m3-HLH</th>\n",
       "      <td>48</td>\n",
       "      <td>48</td>\n",
       "    </tr>\n",
       "    <tr>\n",
       "      <th>E(spl)m5-HLH</th>\n",
       "      <td>110</td>\n",
       "      <td>110</td>\n",
       "    </tr>\n",
       "    <tr>\n",
       "      <th>...</th>\n",
       "      <td>...</td>\n",
       "      <td>...</td>\n",
       "    </tr>\n",
       "    <tr>\n",
       "      <th>tsu</th>\n",
       "      <td>67</td>\n",
       "      <td>67</td>\n",
       "    </tr>\n",
       "    <tr>\n",
       "      <th>twi</th>\n",
       "      <td>80</td>\n",
       "      <td>80</td>\n",
       "    </tr>\n",
       "    <tr>\n",
       "      <th>usp</th>\n",
       "      <td>102</td>\n",
       "      <td>102</td>\n",
       "    </tr>\n",
       "    <tr>\n",
       "      <th>wor</th>\n",
       "      <td>188</td>\n",
       "      <td>188</td>\n",
       "    </tr>\n",
       "    <tr>\n",
       "      <th>zld</th>\n",
       "      <td>306</td>\n",
       "      <td>306</td>\n",
       "    </tr>\n",
       "  </tbody>\n",
       "</table>\n",
       "<p>70 rows × 2 columns</p>\n",
       "</div>"
      ],
      "text/plain": [
       "              gene  count\n",
       "TF                       \n",
       "CG5245          42     42\n",
       "CG5846          80     80\n",
       "Dp              40     40\n",
       "E(spl)m3-HLH    48     48\n",
       "E(spl)m5-HLH   110    110\n",
       "...            ...    ...\n",
       "tsu             67     67\n",
       "twi             80     80\n",
       "usp            102    102\n",
       "wor            188    188\n",
       "zld            306    306\n",
       "\n",
       "[70 rows x 2 columns]"
      ]
     },
     "execution_count": 16,
     "metadata": {},
     "output_type": "execute_result"
    }
   ],
   "source": [
    "gene_counts_df.groupby(\"TF\").count()"
   ]
  },
  {
   "cell_type": "code",
   "execution_count": 7,
   "metadata": {},
   "outputs": [],
   "source": [
    "sizes = gene_counts_df.groupby('TF').size()"
   ]
  },
  {
   "cell_type": "code",
   "execution_count": 13,
   "metadata": {},
   "outputs": [],
   "source": [
    "sizes.to_csv(\"../results/regulon_sizes.csv\")"
   ]
  },
  {
   "cell_type": "markdown",
   "metadata": {},
   "source": [
    "---------"
   ]
  },
  {
   "cell_type": "markdown",
   "metadata": {},
   "source": [
    "# Exploratory - thesis\n"
   ]
  },
  {
   "cell_type": "code",
   "execution_count": 4,
   "metadata": {},
   "outputs": [],
   "source": [
    "types_df = pd.read_csv(\"../data/cell_type.csv\", index_col=0)"
   ]
  },
  {
   "cell_type": "code",
   "execution_count": 14,
   "metadata": {},
   "outputs": [
    {
     "data": {
      "text/plain": [
       "[Text(0, 0, '677'),\n",
       " Text(0, 0, '400'),\n",
       " Text(0, 0, '382'),\n",
       " Text(0, 0, '362'),\n",
       " Text(0, 0, '357'),\n",
       " Text(0, 0, '310'),\n",
       " Text(0, 0, '250'),\n",
       " Text(0, 0, '248'),\n",
       " Text(0, 0, '217'),\n",
       " Text(0, 0, '142'),\n",
       " Text(0, 0, '138'),\n",
       " Text(0, 0, '129'),\n",
       " Text(0, 0, '91'),\n",
       " Text(0, 0, '77'),\n",
       " Text(0, 0, '75')]"
      ]
     },
     "execution_count": 14,
     "metadata": {},
     "output_type": "execute_result"
    },
    {
     "data": {
      "image/png": "[encoded data removed]",
      "text/plain": [
       "<Figure size 1080x720 with 1 Axes>"
      ]
     },
     "metadata": {
      "needs_background": "light"
     },
     "output_type": "display_data"
    }
   ],
   "source": [
    "ax = types_df.type.value_counts().plot(kind='barh', figsize=(15,10))\n",
    "ax.bar_label(ax.containers[0])"
   ]
  },
  {
   "cell_type": "code",
   "execution_count": 19,
   "metadata": {},
   "outputs": [
    {
     "data": {
      "text/plain": [
       "[Text(0.5, 0, 'count'), Text(0, 0.5, 'cell type')]"
      ]
     },
     "execution_count": 19,
     "metadata": {},
     "output_type": "execute_result"
    },
    {
     "data": {
      "image/png": "[encoded data removed]",
      "text/plain": [
       "<Figure size 432x288 with 1 Axes>"
      ]
     },
     "metadata": {},
     "output_type": "display_data"
    }
   ],
   "source": [
    "sns.set_theme(style=\"darkgrid\")\n",
    "\n",
    "ax = types_df.type.value_counts().plot(kind='barh')\n",
    "ax.set(xlabel='count', ylabel='cell type')\n"
   ]
  },
  {
   "cell_type": "code",
   "execution_count": 10,
   "metadata": {},
   "outputs": [
    {
     "data": {
      "text/plain": [
       "7-4    677\n",
       "5-3    400\n",
       "1-2    382\n",
       "MG     362\n",
       "1-1    357\n",
       "6-2    310\n",
       "2-4    250\n",
       "7-1    248\n",
       "3-2    217\n",
       "2-5    142\n",
       "4-2    138\n",
       "5-4    129\n",
       "5-6     91\n",
       "5-2     77\n",
       "3-5     75\n",
       "Name: type, dtype: int64"
      ]
     },
     "execution_count": 10,
     "metadata": {},
     "output_type": "execute_result"
    }
   ],
   "source": [
    "types_df.type.value_counts()"
   ]
  }
 ],
 "metadata": {
  "kernelspec": {
   "display_name": "devo-grn",
   "language": "python",
   "name": "python3"
  },
  "language_info": {
   "codemirror_mode": {
    "name": "ipython",
    "version": 3
   },
   "file_extension": ".py",
   "mimetype": "text/x-python",
   "name": "python",
   "nbconvert_exporter": "python",
   "pygments_lexer": "ipython3",
   "version": "3.10.9"
  },
  "orig_nbformat": 4
 },
 "nbformat": 4,
 "nbformat_minor": 2
}
