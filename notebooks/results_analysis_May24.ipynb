{
 "cells": [
  {
   "attachments": {},
   "cell_type": "markdown",
   "metadata": {},
   "source": [
    "# Results from test run \n",
    "### 24.05.23"
   ]
  },
  {
   "cell_type": "code",
   "execution_count": 65,
   "metadata": {},
   "outputs": [],
   "source": [
    "import pandas as pd\n",
    "import pickle\n"
   ]
  },
  {
   "attachments": {},
   "cell_type": "markdown",
   "metadata": {},
   "source": [
    "Motifs"
   ]
  },
  {
   "cell_type": "code",
   "execution_count": 50,
   "metadata": {},
   "outputs": [],
   "source": [
    "r1_motifs = pd.read_csv(\"../results_test_run/run_1/motifs.csv\", header=[0,1,2])\n",
    "r2_motifs = pd.read_csv(\"../results_test_run/run_2/motifs.csv\", header=[0,1,2])"
   ]
  },
  {
   "attachments": {},
   "cell_type": "markdown",
   "metadata": {},
   "source": [
    "Regulons"
   ]
  },
  {
   "cell_type": "code",
   "execution_count": 66,
   "metadata": {},
   "outputs": [],
   "source": [
    "with open(\"../results_test_run/run_1/regulons.pkl\", 'rb') as f:\n",
    "    r1_regulons = pickle.load(f)\n",
    "\n",
    "with open(\"../results_test_run/run_2/regulons.pkl\", 'rb') as f:\n",
    "    r2_regulons = pickle.load(f) "
   ]
  },
  {
   "cell_type": "code",
   "execution_count": 167,
   "metadata": {},
   "outputs": [
    {
     "data": {
      "text/plain": [
       "28"
      ]
     },
     "execution_count": 167,
     "metadata": {},
     "output_type": "execute_result"
    }
   ],
   "source": [
    "len(r1_regulons[0].genes)"
   ]
  },
  {
   "cell_type": "code",
   "execution_count": 183,
   "metadata": {},
   "outputs": [],
   "source": [
    "df_r1 = pd.DataFrame({\n",
    "             'TF': [reg.transcription_factor for reg in r1_regulons],\n",
    "             'genes': [list(reg.genes) for reg in r1_regulons],\n",
    "             'score' : [reg.score for reg in r1_regulons],\n",
    "             })\n",
    "df_r1['size'] = df_r1['genes'].apply(lambda x: len(x))\n",
    "df_r1 = df_r1.set_index('TF')\n",
    "\n",
    "df_r1.to_csv(\"../results_test_run/run_1/regulons.csv\")"
   ]
  },
  {
   "cell_type": "code",
   "execution_count": 184,
   "metadata": {},
   "outputs": [],
   "source": [
    "df_r2 = pd.DataFrame({\n",
    "             'TF': [reg.transcription_factor for reg in r2_regulons],\n",
    "             'genes': [list(reg.genes) for reg in r2_regulons],\n",
    "             'score' : [reg.score for reg in r2_regulons],\n",
    "             })\n",
    "df_r2['size'] = df_r2['genes'].apply(lambda x: len(x))\n",
    "df_r2 = df_r2.set_index('TF')\n",
    "\n",
    "df_r2.to_csv(\"../results_test_run/run_1/regulons.csv\")"
   ]
  },
  {
   "attachments": {},
   "cell_type": "markdown",
   "metadata": {},
   "source": [
    "See correlation between score and size # TODO"
   ]
  },
  {
   "cell_type": "code",
   "execution_count": 197,
   "metadata": {},
   "outputs": [
    {
     "data": {
      "image/png": "[encoded data removed]",
      "text/plain": [
       "<Figure size 432x288 with 1 Axes>"
      ]
     },
     "metadata": {
      "needs_background": "light"
     },
     "output_type": "display_data"
    }
   ],
   "source": [
    "# based on the first run \n",
    "from matplotlib import pyplot as plt\n",
    "from scipy.stats import pearsonr\n",
    "import numpy as np\n",
    "\n",
    "col1 = df_r1['size']\n",
    "col2 = df_r1['score']\n",
    "\n",
    "ind = np.argsort(col1)\n",
    "plt.clf()\n",
    "plt.plot(col1[ind], col2[ind])\n",
    "plt.show()"
   ]
  },
  {
   "attachments": {},
   "cell_type": "markdown",
   "metadata": {},
   "source": [
    "TO DO:\n",
    "\n",
    "1. upload regulons for both runs\n",
    "2. compare names\n",
    "3. Check out more info that exists in the regulons (ranking?)\n",
    "\n",
    "- check in papers: how all motifs are accumulated to one regulon? + which rankings"
   ]
  },
  {
   "cell_type": "code",
   "execution_count": 91,
   "metadata": {},
   "outputs": [
    {
     "data": {
      "text/plain": [
       "91"
      ]
     },
     "execution_count": 91,
     "metadata": {},
     "output_type": "execute_result"
    }
   ],
   "source": [
    "mut_r1 = {}\n",
    "mut_r2 = {}\n",
    "for reg1 in r1_regulons:\n",
    "    for reg2 in r2_regulons:\n",
    "        if reg1.name == reg2.name:\n",
    "            mut_r1[reg1.name] = reg1\n",
    "            mut_r2[reg2.name] = reg2\n",
    "\n"
   ]
  },
  {
   "cell_type": "code",
   "execution_count": 86,
   "metadata": {},
   "outputs": [
    {
     "name": "stdout",
     "output_type": "stream",
     "text": [
      "91\n",
      "137\n",
      "131\n",
      "['B-H2(+)', 'CG11586(+)', 'CG5846(+)', 'CG9727(+)', 'CHES-1-like(+)', 'CTCF(+)', 'Dp(+)', 'Dref(+)', 'E(spl)m3-HLH(+)', 'E(spl)m5-HLH(+)', 'E(spl)m7-HLH(+)', 'E(spl)m8-HLH(+)', 'E(spl)mbeta-HLH(+)', 'E2f1(+)', 'E2f2(+)', 'EcR(+)', 'FoxK(+)', 'GATAd(+)', 'HGTX(+)', 'HLH54F(+)', 'Hr78(+)', 'Mef2(+)', 'Mitf(+)', 'Myc(+)', 'NfI(+)', 'Ptx1(+)', 'Rbp6(+)', 'Rel(+)', 'Rfx(+)', 'Rx(+)', 'S2P(+)', 'SMC3(+)', 'Sox102F(+)', 'SoxN(+)', 'Spps(+)', 'Stat92E(+)', 'Su(H)(+)', 'Tet(+)', 'Trf2(+)', 'Trl(+)', 'Ubx(+)', 'Xbp1(+)', 'abd-A(+)', 'aop(+)', 'ase(+)', 'ato(+)', 'bbx(+)', 'bin(+)', 'bon(+)', 'bowl(+)', 'bru3(+)', 'cad(+)', 'cbt(+)', 'ci(+)', 'crol(+)', 'crp(+)', 'disco(+)', 'drm(+)', 'emc(+)', 'esg(+)', 'fd96Cb(+)', 'foxo(+)', 'gcm(+)', 'gcm2(+)', 'gem(+)', 'grh(+)', 'grn(+)', 'gsb(+)', 'gsb-n(+)', 'jigr1(+)', 'l(1)sc(+)', 'l(3)neo38(+)', 'mid(+)', 'mor(+)', 'nej(+)', 'nub(+)', 'odd(+)', 'pan(+)', 'phol(+)', 'pnr(+)', 'sc(+)', 'slou(+)', 'sna(+)', 'sug(+)', 'svp(+)', 'tin(+)', 'tll(+)', 'tsu(+)', 'usp(+)', 'wor(+)', 'zld(+)']\n"
     ]
    }
   ],
   "source": [
    "mutual = []\n",
    "\n",
    "for r1 in r1_regulons:\n",
    "    for r2 in r2_regulons:\n",
    "        if r1.name == r2.name: \n",
    "            mutual.append(r1.name)\n",
    "\n",
    "print(len(mutual))  # 91 common TFs\n",
    "\n",
    "print(len(r1_regulons))# 137\n",
    "print(len(r2_regulons)) # 131\n",
    "\n",
    "print(mutual)"
   ]
  },
  {
   "attachments": {},
   "cell_type": "markdown",
   "metadata": {},
   "source": [
    "go over all common regulons and compare genes "
   ]
  },
  {
   "attachments": {},
   "cell_type": "markdown",
   "metadata": {},
   "source": [
    "Regulon class has comparing methods - might be useful"
   ]
  },
  {
   "cell_type": "code",
   "execution_count": 97,
   "metadata": {},
   "outputs": [
    {
     "name": "stdout",
     "output_type": "stream",
     "text": [
      "[capu,CG7724,esn,CG18507,B-H2,CG9628,FucTA,peb]\n",
      "[sff,Phlpp,CG31988,CG1835,E(spl)m7-HLH]\n",
      "[E(spl)m2-BFM,CG4301]\n"
     ]
    }
   ],
   "source": [
    "from ctxcore.genesig import Regulon\n",
    "## Use Regulon's intersection function\n",
    "\n",
    "for name, reg in mut_r1.items():\n",
    "    print(reg.intersection(mut_r2[name]))\n",
    "    print(reg.difference(mut_r2[name]))  # only on r1\n",
    "    print(mut_r2[name].difference(reg))  # only on r2\n",
    "    break\n",
    "\n"
   ]
  },
  {
   "attachments": {},
   "cell_type": "markdown",
   "metadata": {},
   "source": [
    "## Get all TFs that appear in >80% of runs"
   ]
  },
  {
   "attachments": {},
   "cell_type": "markdown",
   "metadata": {},
   "source": [
    "upload runs regulons"
   ]
  },
  {
   "cell_type": "code",
   "execution_count": 1,
   "metadata": {},
   "outputs": [
    {
     "ename": "NameError",
     "evalue": "name 'pickle' is not defined",
     "output_type": "error",
     "traceback": [
      "\u001b[0;31m---------------------------------------------------------------------------\u001b[0m",
      "\u001b[0;31mNameError\u001b[0m                                 Traceback (most recent call last)",
      "\u001b[1;32m/Users/danabarilan/Documents/forMasters/Intenship/code/devo-grn/notebooks/results_analysis_May24.ipynb Cell 20\u001b[0m in \u001b[0;36m<cell line: 4>\u001b[0;34m()\u001b[0m\n\u001b[1;32m      <a href='vscode-notebook-cell:/Users/danabarilan/Documents/forMasters/Intenship/code/devo-grn/notebooks/results_analysis_May24.ipynb#X25sZmlsZQ%3D%3D?line=3'>4</a>\u001b[0m \u001b[39mfor\u001b[39;00m folder \u001b[39min\u001b[39;00m glob(\u001b[39m\"\u001b[39m\u001b[39m../results_test_run/*/\u001b[39m\u001b[39m\"\u001b[39m, recursive\u001b[39m=\u001b[39m \u001b[39mTrue\u001b[39;00m):  \u001b[39m# get a list of all sub directories\u001b[39;00m\n\u001b[1;32m      <a href='vscode-notebook-cell:/Users/danabarilan/Documents/forMasters/Intenship/code/devo-grn/notebooks/results_analysis_May24.ipynb#X25sZmlsZQ%3D%3D?line=4'>5</a>\u001b[0m     \u001b[39mwith\u001b[39;00m \u001b[39mopen\u001b[39m(folder\u001b[39m+\u001b[39m\u001b[39m'\u001b[39m\u001b[39mregulons.pkl\u001b[39m\u001b[39m'\u001b[39m, \u001b[39m'\u001b[39m\u001b[39mrb\u001b[39m\u001b[39m'\u001b[39m) \u001b[39mas\u001b[39;00m f:\n\u001b[0;32m----> <a href='vscode-notebook-cell:/Users/danabarilan/Documents/forMasters/Intenship/code/devo-grn/notebooks/results_analysis_May24.ipynb#X25sZmlsZQ%3D%3D?line=5'>6</a>\u001b[0m         regulon \u001b[39m=\u001b[39m pickle\u001b[39m.\u001b[39mload(f)\n\u001b[1;32m      <a href='vscode-notebook-cell:/Users/danabarilan/Documents/forMasters/Intenship/code/devo-grn/notebooks/results_analysis_May24.ipynb#X25sZmlsZQ%3D%3D?line=6'>7</a>\u001b[0m     run \u001b[39m=\u001b[39m basename(normpath(folder))\n",
      "\u001b[0;31mNameError\u001b[0m: name 'pickle' is not defined"
     ]
    }
   ],
   "source": [
    "from glob import glob\n",
    "from os.path import basename, normpath\n",
    "\n",
    "for folder in glob(\"../results_test_run/*/\", recursive= True):  # get a list of all sub directories\n",
    "    with open(folder+'regulons.pkl', 'rb') as f:\n",
    "        regulon = pickle.load(f)\n",
    "    run = basename(normpath(folder))\n",
    "        \n",
    "        \n",
    "\n",
    "\n",
    "\n"
   ]
  }
 ],
 "metadata": {
  "kernelspec": {
   "display_name": "devo-grn",
   "language": "python",
   "name": "python3"
  },
  "language_info": {
   "codemirror_mode": {
    "name": "ipython",
    "version": 3
   },
   "file_extension": ".py",
   "mimetype": "text/x-python",
   "name": "python",
   "nbconvert_exporter": "python",
   "pygments_lexer": "ipython3",
   "version": "3.10.9"
  },
  "orig_nbformat": 4
 },
 "nbformat": 4,
 "nbformat_minor": 2
}
