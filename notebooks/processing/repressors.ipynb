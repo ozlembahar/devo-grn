{
 "cells": [
  {
   "cell_type": "markdown",
   "metadata": {},
   "source": [
    "# pySCENIC - including repressors, post analysis"
   ]
  },
  {
   "cell_type": "markdown",
   "metadata": {},
   "source": [
    "Create a list of repressors and count the number of runs they appeared at as modules and then regulons!"
   ]
  },
  {
   "cell_type": "code",
   "execution_count": 8,
   "metadata": {},
   "outputs": [],
   "source": [
    "from IPython.core.interactiveshell import InteractiveShell\n",
    "InteractiveShell.ast_node_interactivity = \"all\""
   ]
  },
  {
   "cell_type": "code",
   "execution_count": 2,
   "metadata": {},
   "outputs": [],
   "source": [
    "from glob import glob\n",
    "import pandas as pd\n",
    "import pickle"
   ]
  },
  {
   "cell_type": "code",
   "execution_count": 3,
   "metadata": {},
   "outputs": [],
   "source": [
    "results_dir_glob = \"/Users/danabarilan/Documents/forMasters/Intenship/code/results_2709/run_*/\"\n",
    "results_dir = \"/Users/danabarilan/Documents/forMasters/Intenship/code/results_2709/\""
   ]
  },
  {
   "cell_type": "code",
   "execution_count": 19,
   "metadata": {},
   "outputs": [],
   "source": [
    "all_runs_repressors = pd.DataFrame()\n",
    "for folder in glob(results_dir_glob):\n",
    "    with open(folder + 'modules.pkl', 'rb') as f:\n",
    "        modules = pickle.load(f)\n",
    "\n",
    "    repressors_list = [mod for mod in modules \n",
    "                       if 'repressing' in mod.context]  # only the repressing moduels list\n",
    "    \n",
    "    repressors_df = pd.DataFrame({'TF': [rep.transcription_factor for rep in repressors_list],\n",
    "                                  'gene': [rep.gene2weight.keys() for rep in repressors_list]})\n",
    "    repressors_df = repressors_df.explode('gene').drop_duplicates()\n",
    "    # concat all results together\n",
    "    all_runs_repressors = pd.concat([all_runs_repressors, repressors_df])\n",
    "\n",
    "all_runs_repressors = all_runs_repressors.groupby(['TF','gene']).size().to_frame('count')\n",
    "all_runs_repressors = all_runs_repressors.sort_values(['TF', 'count'], ascending=False)\n",
    "\n",
    "all_runs_repressors = all_runs_repressors.reset_index().assign(TF=lambda x: x['TF'].where(~x['TF'].duplicated(), ''))\n",
    "all_runs_repressors.to_csv(results_dir+'repressors_counts.csv', index='False')\n",
    "    "
   ]
  },
  {
   "cell_type": "code",
   "execution_count": 15,
   "metadata": {},
   "outputs": [
    {
     "data": {
      "text/plain": [
       "TF      gene   \n",
       "CG4440  Act57B      1\n",
       "        Act87E      2\n",
       "        BBS8        1\n",
       "        CG11658     1\n",
       "        CG14207     2\n",
       "                   ..\n",
       "sna     repo        2\n",
       "        sna        11\n",
       "        spidey      1\n",
       "        unpg        1\n",
       "        uzip        8\n",
       "Length: 2792, dtype: int64"
      ]
     },
     "metadata": {},
     "output_type": "display_data"
    }
   ],
   "source": [
    "display(all_runs_repressors)"
   ]
  }
 ],
 "metadata": {
  "kernelspec": {
   "display_name": "devo-grn",
   "language": "python",
   "name": "python3"
  },
  "language_info": {
   "codemirror_mode": {
    "name": "ipython",
    "version": 3
   },
   "file_extension": ".py",
   "mimetype": "text/x-python",
   "name": "python",
   "nbconvert_exporter": "python",
   "pygments_lexer": "ipython3",
   "version": "3.10.9"
  },
  "orig_nbformat": 4
 },
 "nbformat": 4,
 "nbformat_minor": 2
}
