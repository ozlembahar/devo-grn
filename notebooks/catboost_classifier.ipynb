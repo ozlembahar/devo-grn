{
 "cells": [
  {
   "cell_type": "code",
   "execution_count": 3,
   "metadata": {},
   "outputs": [],
   "source": [
    "from catboost import CatBoostClassifier, Pool, metrics, cv\n",
    "from sklearn.metrics import accuracy_score\n",
    "import pandas as pd"
   ]
  },
  {
   "cell_type": "markdown",
   "metadata": {},
   "source": [
    "https://github.com/catboost/tutorials/blob/master/python_tutorial.ipynb"
   ]
  },
  {
   "cell_type": "markdown",
   "metadata": {},
   "source": [
    "upload data"
   ]
  },
  {
   "cell_type": "code",
   "execution_count": 4,
   "metadata": {},
   "outputs": [],
   "source": [
    "norm_data = pd.read_csv('../data/normalized_expr_mat.csv', index_col=0)"
   ]
  },
  {
   "cell_type": "code",
   "execution_count": 8,
   "metadata": {},
   "outputs": [
    {
     "data": {
      "text/plain": [
       "['5-6',\n",
       " '7-1',\n",
       " '7-4',\n",
       " '1-1',\n",
       " '1-2',\n",
       " '5-2',\n",
       " 'MG',\n",
       " '5-3',\n",
       " '3-5',\n",
       " '3-2',\n",
       " '2-5',\n",
       " '4-2',\n",
       " '5-4',\n",
       " '6-2',\n",
       " '2-4']"
      ]
     },
     "execution_count": 8,
     "metadata": {},
     "output_type": "execute_result"
    }
   ],
   "source": [
    "labels = pd.read_csv('../data/cell_type.csv', index_col=0)\n",
    "labels.type.unique().tolist()"
   ]
  },
  {
   "cell_type": "code",
   "execution_count": 9,
   "metadata": {},
   "outputs": [],
   "source": [
    "norm_data = norm_data.join(labels)"
   ]
  },
  {
   "cell_type": "code",
   "execution_count": 10,
   "metadata": {},
   "outputs": [],
   "source": [
    "X = norm_data.iloc[:,:-1] # data\n",
    "Y = norm_data.iloc[:,-1:] # labels"
   ]
  },
  {
   "cell_type": "markdown",
   "metadata": {},
   "source": [
    "Train test split"
   ]
  },
  {
   "cell_type": "code",
   "execution_count": 27,
   "metadata": {},
   "outputs": [],
   "source": [
    "from sklearn.model_selection import train_test_split"
   ]
  },
  {
   "cell_type": "code",
   "execution_count": 28,
   "metadata": {},
   "outputs": [],
   "source": [
    "x_train, x_test, y_train, y_test = train_test_split(X, Y, test_size=0.2)"
   ]
  },
  {
   "cell_type": "code",
   "execution_count": 29,
   "metadata": {},
   "outputs": [],
   "source": [
    "model = CatBoostClassifier(\n",
    "    custom_loss=[metrics.Accuracy()],\n",
    "    random_seed=42,\n",
    "    logging_level='Silent'\n",
    ")"
   ]
  },
  {
   "cell_type": "code",
   "execution_count": 30,
   "metadata": {},
   "outputs": [
    {
     "data": {
      "application/vnd.jupyter.widget-view+json": {
       "model_id": "d95c9fae6e064846b050691a82457df2",
       "version_major": 2,
       "version_minor": 0
      },
      "text/plain": [
       "MetricVisualizer(layout=Layout(align_self='stretch', height='500px'))"
      ]
     },
     "metadata": {},
     "output_type": "display_data"
    }
   ],
   "source": [
    "est = model.fit(\n",
    "    x_train, y_train,\n",
    "    eval_set=(x_test, y_test),\n",
    "#     logging_level='Verbose',  # you can uncomment this for text output\n",
    "    plot=True\n",
    ");"
   ]
  },
  {
   "cell_type": "markdown",
   "metadata": {},
   "source": [
    "TO DO: cross validation"
   ]
  },
  {
   "cell_type": "code",
   "execution_count": 32,
   "metadata": {},
   "outputs": [
    {
     "name": "stdout",
     "output_type": "stream",
     "text": [
      "[['7-4']\n",
      " ['1-2']\n",
      " ['MG']\n",
      " ['5-3']\n",
      " ['1-1']\n",
      " ['2-4']\n",
      " ['7-4']\n",
      " ['2-4']\n",
      " ['7-4']\n",
      " ['MG']]\n",
      "[[6.36151980e-04 1.08529746e-03 4.30815943e-04 2.17810136e-04\n",
      "  7.13601776e-03 1.46134262e-04 1.00230259e-04 6.24992181e-04\n",
      "  2.12221895e-03 1.04945669e-04 3.49332581e-03 7.17213153e-04\n",
      "  2.95271759e-03 9.79731369e-01 5.00759767e-04]\n",
      " [9.70296460e-03 9.82921196e-01 1.77844156e-03 2.37894275e-04\n",
      "  1.90594992e-03 2.30300606e-04 9.26298178e-05 5.58628598e-04\n",
      "  1.45503573e-04 1.95534974e-04 1.71777049e-04 3.15404405e-04\n",
      "  3.05155625e-04 1.07375124e-03 3.64867299e-04]\n",
      " [1.00463427e-02 4.56769799e-03 1.60433032e-03 5.18986903e-02\n",
      "  1.77098702e-03 1.16765702e-02 2.77011929e-03 5.75088566e-04\n",
      "  1.24043424e-02 1.65747360e-03 6.99676658e-04 5.81338144e-03\n",
      "  7.57051093e-03 5.40881912e-02 8.32856597e-01]\n",
      " [1.45109048e-03 9.33512435e-04 5.39471385e-04 9.15792721e-04\n",
      "  3.99236636e-03 1.28811866e-03 3.38969900e-03 2.33331705e-03\n",
      "  9.30717996e-01 5.52361084e-03 8.72484006e-03 2.22801577e-02\n",
      "  7.05501407e-03 7.05772543e-03 3.79728802e-03]\n",
      " [8.36741771e-01 4.93200297e-02 7.93312526e-04 2.59606756e-03\n",
      "  2.74566999e-03 1.14099537e-03 7.90844924e-04 2.63282784e-03\n",
      "  1.71451341e-02 3.14384868e-04 3.16968747e-04 4.17205758e-03\n",
      "  5.88414185e-02 1.72514128e-02 5.19710421e-03]\n",
      " [4.37557884e-03 4.87842322e-03 9.51957390e-01 1.36566879e-03\n",
      "  2.04899201e-03 4.03187648e-03 5.32976912e-03 7.28336342e-05\n",
      "  5.49881076e-04 8.28694464e-03 1.69054102e-04 9.24451925e-03\n",
      "  2.84418031e-04 4.31345006e-03 3.09120026e-03]\n",
      " [2.30503861e-02 4.21815424e-03 9.03272931e-03 2.45527021e-01\n",
      "  1.61115289e-02 6.00687310e-03 1.64077818e-03 6.93244364e-04\n",
      "  1.25262599e-02 1.67363928e-03 3.26967497e-03 1.41933918e-02\n",
      "  3.55280074e-03 6.49277154e-01 9.22636401e-03]\n",
      " [6.87308101e-03 9.37314302e-03 8.17596173e-01 2.94625988e-03\n",
      "  3.58229739e-02 1.01747564e-02 7.23306515e-03 1.22288816e-03\n",
      "  4.15868388e-03 4.25788190e-03 3.27984727e-03 3.80211387e-02\n",
      "  2.12296050e-03 5.26270162e-02 4.29013078e-03]\n",
      " [5.03966018e-02 1.23599742e-02 6.98678302e-03 1.00404030e-02\n",
      "  4.79109884e-02 6.56476325e-03 1.34149580e-02 8.08440629e-03\n",
      "  1.08703985e-01 2.69699391e-03 2.59321222e-02 9.29996936e-03\n",
      "  9.27840992e-03 6.72664612e-01 1.56650300e-02]\n",
      " [2.02902809e-04 1.47615240e-04 9.15071321e-05 4.39609209e-04\n",
      "  1.72173445e-05 4.18644124e-04 7.93701821e-05 1.78213778e-04\n",
      "  2.32571083e-04 3.59044425e-04 1.33181848e-04 2.17092186e-04\n",
      "  5.73323969e-04 4.92001555e-05 9.96860507e-01]]\n"
     ]
    }
   ],
   "source": [
    "predictions = model.predict(x_test)\n",
    "predictions_probs = model.predict_proba(x_test)\n",
    "print(predictions[:10])\n",
    "print(predictions_probs[:10])"
   ]
  }
 ],
 "metadata": {
  "kernelspec": {
   "display_name": "devo-grn",
   "language": "python",
   "name": "python3"
  },
  "language_info": {
   "codemirror_mode": {
    "name": "ipython",
    "version": 3
   },
   "file_extension": ".py",
   "mimetype": "text/x-python",
   "name": "python",
   "nbconvert_exporter": "python",
   "pygments_lexer": "ipython3",
   "version": "3.10.9"
  }
 },
 "nbformat": 4,
 "nbformat_minor": 2
}
